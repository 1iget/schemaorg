{
 "cells": [
  {
   "cell_type": "markdown",
   "metadata": {},
   "source": [
    "This is an experimental (stub...) Schema.org dashboard using Jupyter/iPython"
   ]
  },
  {
   "cell_type": "code",
   "execution_count": null,
   "metadata": {
    "collapsed": true
   },
   "outputs": [],
   "source": []
  },
  {
   "cell_type": "code",
   "execution_count": 6,
   "metadata": {
    "collapsed": false
   },
   "outputs": [],
   "source": [
    "# My eyes...\n",
    "\n",
    "import unittest\n",
    "import os\n",
    "from os import path, getenv\n",
    "from os.path import expanduser\n",
    "import logging # https://docs.python.org/2/library/logging.html#logging-levels\n",
    "import glob\n",
    "import argparse\n",
    "import StringIO\n",
    "import sys\n",
    "sys.path.append( os.getcwd() ) \n",
    "sys.path.append( os.path.abspath(os.path.join(\"../\", os.pardir))) \n",
    "sys.path.insert( 1, '../' ) \n",
    "sys.path.insert( 1, '../lib' ) #Pickup libs, rdflib etc., from shipped lib directory\n",
    "sdk_path = getenv('APP_ENGINE',  expanduser(\"~\") + '/google-cloud-sdk/platform/google_appengine/')\n",
    "sys.path.insert(0, sdk_path) # add AppEngine SDK to path\n",
    "import dev_appserver\n",
    "dev_appserver.fix_sys_path()\n",
    "from api import *\n",
    "import rdflib\n",
    "from rdflib import Graph\n",
    "from rdflib import RDF, RDFS\n",
    "from rdflib.term import URIRef, Literal\n",
    "from rdflib.parser import Parser\n",
    "from rdflib.serializer import Serializer\n",
    "from rdflib.plugins.sparql import prepareQuery\n",
    "from rdflib.compare import graph_diff\n",
    "import threading\n",
    "from api import inLayer, read_file, full_path, read_schemas, read_extensions, read_examples, namespaces, DataCache, getMasterStore\n",
    "from apirdflib import getNss\n",
    "import dev_appserver\n",
    "dev_appserver.fix_sys_path()"
   ]
  },
  {
   "cell_type": "code",
   "execution_count": null,
   "metadata": {
    "collapsed": true
   },
   "outputs": [],
   "source": []
  },
  {
   "cell_type": "code",
   "execution_count": 12,
   "metadata": {
    "collapsed": false
   },
   "outputs": [],
   "source": [
    "setInTestHarness(True)\n",
    "import sdoapp\n",
    "rdflib.plugin.register(\"json-ld\", Serializer, \"rdflib_jsonld.serializer\", \"JsonLDSerializer\")\n",
    "\n",
    "\n",
    "store = getMasterStore()\n",
    "read_schemas(loadExtensions=True)\n",
    "read_extensions(sdoapp.ENABLED_EXTENSIONS)\n",
    "graphs = list(store.graphs())\n"
   ]
  },
  {
   "cell_type": "code",
   "execution_count": 14,
   "metadata": {
    "collapsed": false
   },
   "outputs": [
    {
     "name": "stdout",
     "output_type": "stream",
     "text": [
      "<urn:x-rdflib:default> a rdfg:Graph;rdflib:storage [a rdflib:Store;rdfs:label 'IOMemory'].\n"
     ]
    }
   ],
   "source": [
    "for g in graphs:\n",
    "    print g"
   ]
  },
  {
   "cell_type": "code",
   "execution_count": null,
   "metadata": {
    "collapsed": true
   },
   "outputs": [],
   "source": []
  },
  {
   "cell_type": "code",
   "execution_count": null,
   "metadata": {
    "collapsed": true
   },
   "outputs": [],
   "source": []
  }
 ],
 "metadata": {
  "kernelspec": {
   "display_name": "Python 2",
   "language": "python",
   "name": "python2"
  },
  "language_info": {
   "codemirror_mode": {
    "name": "ipython",
    "version": 2
   },
   "file_extension": ".py",
   "mimetype": "text/x-python",
   "name": "python",
   "nbconvert_exporter": "python",
   "pygments_lexer": "ipython2",
   "version": "2.7.10"
  }
 },
 "nbformat": 4,
 "nbformat_minor": 0
}

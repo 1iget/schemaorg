{
 "cells": [
  {
   "cell_type": "markdown",
   "metadata": {},
   "source": [
    "This is an experimental (stub...) Schema.org dashboard using Jupyter/iPython"
   ]
  },
  {
   "cell_type": "code",
   "execution_count": null,
   "metadata": {
    "collapsed": true
   },
   "outputs": [],
   "source": []
  },
  {
   "cell_type": "code",
   "execution_count": 1,
   "metadata": {
    "collapsed": false
   },
   "outputs": [],
   "source": [
    "# My eyes...\n",
    "\n",
    "import unittest\n",
    "import os\n",
    "from os import path, getenv\n",
    "from os.path import expanduser\n",
    "import logging # https://docs.python.org/2/library/logging.html#logging-levels\n",
    "import glob\n",
    "import argparse\n",
    "import StringIO\n",
    "import sys\n",
    "sys.path.append( os.getcwd() ) \n",
    "sys.path.append( os.path.abspath(os.path.join(\"../\", os.pardir))) \n",
    "sys.path.insert( 1, '../' ) \n",
    "sys.path.insert( 1, '../lib' ) #Pickup libs, rdflib etc., from shipped lib directory\n",
    "sdk_path = getenv('APP_ENGINE',  expanduser(\"~\") + '/google-cloud-sdk/platform/google_appengine/')\n",
    "sys.path.insert(0, sdk_path) # add AppEngine SDK to path\n",
    "import dev_appserver\n",
    "dev_appserver.fix_sys_path()\n",
    "from api import *\n",
    "import rdflib\n",
    "from rdflib import Graph\n",
    "from rdflib import RDF, RDFS\n",
    "from rdflib.term import URIRef, Literal\n",
    "from rdflib.parser import Parser\n",
    "from rdflib.serializer import Serializer\n",
    "from rdflib.plugins.sparql import prepareQuery\n",
    "from rdflib.compare import graph_diff\n",
    "import threading\n",
    "from api import inLayer, read_file, full_path, read_schemas, read_extensions, read_examples, namespaces, DataCache, getMasterStore\n",
    "from apirdflib import getNss\n",
    "import dev_appserver\n",
    "dev_appserver.fix_sys_path()"
   ]
  },
  {
   "cell_type": "code",
   "execution_count": null,
   "metadata": {
    "collapsed": true
   },
   "outputs": [],
   "source": []
  },
  {
   "cell_type": "code",
   "execution_count": 6,
   "metadata": {
    "collapsed": false
   },
   "outputs": [],
   "source": [
    "setInTestHarness(True)\n",
    "import sdoapp\n",
    "rdflib.plugin.register(\"json-ld\", Serializer, \"rdflib_jsonld.serializer\", \"JsonLDSerializer\")\n",
    "\n",
    "\n",
    "store = getMasterStore()\n",
    "read_schemas(loadExtensions=True)\n",
    "read_extensions(sdoapp.ENABLED_EXTENSIONS)\n",
    "graphs = list(store.graphs())\n"
   ]
  },
  {
   "cell_type": "code",
   "execution_count": 14,
   "metadata": {
    "collapsed": false
   },
   "outputs": [
    {
     "name": "stdout",
     "output_type": "stream",
     "text": [
      "<urn:x-rdflib:default> a rdfg:Graph;rdflib:storage [a rdflib:Store;rdfs:label 'IOMemory']. 0\n"
     ]
    }
   ],
   "source": [
    "for g in graphs:\n",
    "    print g, len(g)\n"
   ]
  },
  {
   "cell_type": "code",
   "execution_count": 13,
   "metadata": {
    "collapsed": false
   },
   "outputs": [
    {
     "name": "stdout",
     "output_type": "stream",
     "text": [
      "'Found 0 types.'\n"
     ]
    }
   ],
   "source": [
    "import pprint\n",
    "from api import *\n",
    "\n",
    "read_schemas() # previously automatic\n",
    "\n",
    "pprint.pprint( \"Found %s types.\" % len( GetAllTypes() ) )"
   ]
  },
  {
   "cell_type": "code",
   "execution_count": 18,
   "metadata": {
    "collapsed": false
   },
   "outputs": [
    {
     "name": "stdout",
     "output_type": "stream",
     "text": [
      "'Found 0 types.'\n"
     ]
    },
    {
     "ename": "AttributeError",
     "evalue": "'NoneType' object has no attribute 'id'",
     "output_type": "error",
     "traceback": [
      "\u001b[0;31m---------------------------------------------------------------------------\u001b[0m",
      "\u001b[0;31mAttributeError\u001b[0m                            Traceback (most recent call last)",
      "\u001b[0;32m<ipython-input-18-49346ee20587>\u001b[0m in \u001b[0;36m<module>\u001b[0;34m()\u001b[0m\n\u001b[1;32m     19\u001b[0m     \u001b[0msomeType\u001b[0m \u001b[0;34m=\u001b[0m \u001b[0mUnit\u001b[0m\u001b[0;34m.\u001b[0m\u001b[0mGetUnit\u001b[0m\u001b[0;34m(\u001b[0m\u001b[0mt\u001b[0m\u001b[0;34m)\u001b[0m\u001b[0;34m\u001b[0m\u001b[0m\n\u001b[1;32m     20\u001b[0m     \u001b[0mp_subtypes\u001b[0m \u001b[0;34m=\u001b[0m \u001b[0mGetImmediateSubtypes\u001b[0m\u001b[0;34m(\u001b[0m\u001b[0msomeType\u001b[0m\u001b[0;34m)\u001b[0m\u001b[0;34m\u001b[0m\u001b[0m\n\u001b[0;32m---> 21\u001b[0;31m     \u001b[0mmsg\u001b[0m \u001b[0;34m=\u001b[0m  \u001b[0;34m(\u001b[0m \u001b[0;34m\"Direct subtypes of %s: %s\"\u001b[0m \u001b[0;34m%\u001b[0m \u001b[0;34m(\u001b[0m \u001b[0msomeType\u001b[0m\u001b[0;34m.\u001b[0m\u001b[0mid\u001b[0m\u001b[0;34m,\u001b[0m \u001b[0;34m', '\u001b[0m\u001b[0;34m.\u001b[0m\u001b[0mjoin\u001b[0m\u001b[0;34m(\u001b[0m\u001b[0;34m[\u001b[0m\u001b[0mstr\u001b[0m\u001b[0;34m(\u001b[0m\u001b[0mx\u001b[0m\u001b[0;34m.\u001b[0m\u001b[0mid\u001b[0m\u001b[0;34m)\u001b[0m \u001b[0;32mfor\u001b[0m \u001b[0mx\u001b[0m \u001b[0;32min\u001b[0m \u001b[0mp_subtypes\u001b[0m\u001b[0;34m]\u001b[0m\u001b[0;34m)\u001b[0m \u001b[0;34m)\u001b[0m \u001b[0;34m)\u001b[0m\u001b[0;34m\u001b[0m\u001b[0m\n\u001b[0m\u001b[1;32m     22\u001b[0m     \u001b[0mlogging\u001b[0m\u001b[0;34m.\u001b[0m\u001b[0mdebug\u001b[0m\u001b[0;34m(\u001b[0m\u001b[0mmsg\u001b[0m\u001b[0;34m)\u001b[0m \u001b[0;31m# on cmdline if run as: dev_appserver.py --log_level debug .\u001b[0m\u001b[0;34m\u001b[0m\u001b[0m\n\u001b[1;32m     23\u001b[0m     \u001b[0mpprint\u001b[0m\u001b[0;34m.\u001b[0m\u001b[0mpprint\u001b[0m\u001b[0;34m(\u001b[0m\u001b[0mmsg\u001b[0m\u001b[0;34m)\u001b[0m\u001b[0;34m\u001b[0m\u001b[0m\n",
      "\u001b[0;31mAttributeError\u001b[0m: 'NoneType' object has no attribute 'id'"
     ]
    }
   ],
   "source": [
    "import os\n",
    "import pprint\n",
    "\n",
    "from google.appengine.api import memcache\n",
    "from google.appengine.api import mail\n",
    "from google.appengine.api import urlfetch\n",
    "from google.appengine.ext import db\n",
    "\n",
    "# pprint.pprint(os.environ.copy())\n",
    "\n",
    "import pprint\n",
    "from api import *\n",
    "\n",
    "read_schemas() # previously automatic\n",
    "\n",
    "pprint.pprint( \"Found %s types.\" % len( GetAllTypes() ) )\n",
    "\n",
    "for t in [\"Article\", \"CreativeWork\", \"Product\", \"MedicalEntity\"]: \n",
    "    someType = Unit.GetUnit(t)\n",
    "    p_subtypes = GetImmediateSubtypes(someType)\n",
    "    msg =  ( \"Direct subtypes of %s: %s\" % ( someType.id, ', '.join([str(x.id) for x in p_subtypes]) ) )\n",
    "    logging.debug(msg) # on cmdline if run as: dev_appserver.py --log_level debug .\n",
    "    pprint.pprint(msg)"
   ]
  },
  {
   "cell_type": "code",
   "execution_count": null,
   "metadata": {
    "collapsed": true
   },
   "outputs": [],
   "source": []
  }
 ],
 "metadata": {
  "kernelspec": {
   "display_name": "Python 2",
   "language": "python",
   "name": "python2"
  },
  "language_info": {
   "codemirror_mode": {
    "name": "ipython",
    "version": 2
   },
   "file_extension": ".py",
   "mimetype": "text/x-python",
   "name": "python",
   "nbconvert_exporter": "python",
   "pygments_lexer": "ipython2",
   "version": "2.7.12"
  }
 },
 "nbformat": 4,
 "nbformat_minor": 0
}

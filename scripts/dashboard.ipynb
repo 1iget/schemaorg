{
 "cells": [
  {
   "cell_type": "markdown",
   "metadata": {},
   "source": [
    "This is an experimental (stub...) Schema.org dashboard using Jupyter/iPython"
   ]
  },
  {
   "cell_type": "code",
   "execution_count": 1,
   "metadata": {
    "collapsed": false
   },
   "outputs": [
    {
     "name": "stdout",
     "output_type": "stream",
     "text": [
      "/Users/danbri/sdo/official/schemaorg\n"
     ]
    }
   ],
   "source": [
    "import os\n",
    "os.chdir(\"..\")\n",
    "print os.getcwd()\n"
   ]
  },
  {
   "cell_type": "code",
   "execution_count": 2,
   "metadata": {
    "collapsed": false
   },
   "outputs": [],
   "source": [
    "# My eyes...\n",
    "\n",
    "import unittest\n",
    "import os\n",
    "from os import path, getenv\n",
    "from os.path import expanduser\n",
    "import logging # https://docs.python.org/2/library/logging.html#logging-levels\n",
    "import glob\n",
    "import argparse\n",
    "import StringIO\n",
    "import sys\n",
    "sys.path.append( os.getcwd() ) \n",
    "sys.path.append( os.path.abspath(os.path.join(\"../\", os.pardir))) \n",
    "sys.path.insert( 1, '../' ) \n",
    "sys.path.insert( 1, '../lib' ) #Pickup libs, rdflib etc., from shipped lib directory\n",
    "sdk_path = getenv('APP_ENGINE',  expanduser(\"~\") + '/google-cloud-sdk/platform/google_appengine/')\n",
    "sys.path.insert(0, sdk_path) # add AppEngine SDK to path\n",
    "import dev_appserver\n",
    "dev_appserver.fix_sys_path()\n",
    "from api import *\n",
    "import rdflib\n",
    "from rdflib import Graph\n",
    "from rdflib import RDF, RDFS\n",
    "from rdflib.term import URIRef, Literal\n",
    "from rdflib.parser import Parser\n",
    "from rdflib.serializer import Serializer\n",
    "from rdflib.plugins.sparql import prepareQuery\n",
    "from rdflib.compare import graph_diff\n",
    "import threading\n",
    "from api import inLayer, read_file, full_path, read_schemas, read_extensions, read_examples, namespaces, DataCache, getMasterStore\n",
    "from apirdflib import getNss\n",
    "import dev_appserver\n",
    "dev_appserver.fix_sys_path()"
   ]
  },
  {
   "cell_type": "code",
   "execution_count": null,
   "metadata": {
    "collapsed": true
   },
   "outputs": [],
   "source": []
  },
  {
   "cell_type": "code",
   "execution_count": 3,
   "metadata": {
    "collapsed": false
   },
   "outputs": [],
   "source": [
    "setInTestHarness(True)\n",
    "import sdoapp\n",
    "rdflib.plugin.register(\"json-ld\", Serializer, \"rdflib_jsonld.serializer\", \"JsonLDSerializer\")\n",
    "\n",
    "\n",
    "store = getMasterStore()\n",
    "read_schemas(loadExtensions=True)\n",
    "read_extensions(sdoapp.ENABLED_EXTENSIONS)\n",
    "graphs = list(store.graphs())\n"
   ]
  },
  {
   "cell_type": "code",
   "execution_count": 4,
   "metadata": {
    "collapsed": false
   },
   "outputs": [
    {
     "name": "stdout",
     "output_type": "stream",
     "text": [
      "[a rdfg:Graph;rdflib:storage [a rdflib:Store;rdfs:label 'IOMemory']]. 27\n",
      "<http://health-lifesci.schema.org/> a rdfg:Graph;rdflib:storage [a rdflib:Store;rdfs:label 'IOMemory']. 2185\n",
      "[a rdfg:Graph;rdflib:storage [a rdflib:Store;rdfs:label 'IOMemory']]. 1\n",
      "[a rdfg:Graph;rdflib:storage [a rdflib:Store;rdfs:label 'IOMemory']]. 1\n",
      "<http://attic.schema.org/> a rdfg:Graph;rdflib:storage [a rdflib:Store;rdfs:label 'IOMemory']. 12\n",
      "[a rdfg:Graph;rdflib:storage [a rdflib:Store;rdfs:label 'IOMemory']]. 0\n",
      "<http://meta.schema.org/> a rdfg:Graph;rdflib:storage [a rdflib:Store;rdfs:label 'IOMemory']. 41\n",
      "<http://auto.schema.org/> a rdfg:Graph;rdflib:storage [a rdflib:Store;rdfs:label 'IOMemory']. 186\n",
      "<http://schema.org/> a rdfg:Graph;rdflib:storage [a rdflib:Store;rdfs:label 'IOMemory']. 8117\n",
      "[a rdfg:Graph;rdflib:storage [a rdflib:Store;rdfs:label 'IOMemory']]. 0\n",
      "<http://bib.schema.org/> a rdfg:Graph;rdflib:storage [a rdflib:Store;rdfs:label 'IOMemory']. 185\n",
      "<http://pending.schema.org/> a rdfg:Graph;rdflib:storage [a rdflib:Store;rdfs:label 'IOMemory']. 487\n",
      "[a rdfg:Graph;rdflib:storage [a rdflib:Store;rdfs:label 'IOMemory']]. 27\n",
      "<urn:x-rdflib:default> a rdfg:Graph;rdflib:storage [a rdflib:Store;rdfs:label 'IOMemory']. 0\n"
     ]
    }
   ],
   "source": [
    "for g in graphs:\n",
    "    print g, len(g)\n"
   ]
  },
  {
   "cell_type": "code",
   "execution_count": 5,
   "metadata": {
    "collapsed": false
   },
   "outputs": [
    {
     "name": "stdout",
     "output_type": "stream",
     "text": [
      "'Found 583 types.'\n"
     ]
    }
   ],
   "source": [
    "import pprint\n",
    "from api import *\n",
    "\n",
    "read_schemas() # previously automatic\n",
    "\n",
    "pprint.pprint( \"Found %s types.\" % len( GetAllTypes() ) )"
   ]
  },
  {
   "cell_type": "code",
   "execution_count": 6,
   "metadata": {
    "collapsed": false
   },
   "outputs": [
    {
     "name": "stdout",
     "output_type": "stream",
     "text": [
      "'Found 583 types.'\n",
      "u'Direct subtypes of Article: NewsArticle, Report, ScholarlyArticle, SocialMediaPosting, TechArticle'\n",
      "u'Direct subtypes of CreativeWork: Article, Blog, Book, Clip, Code, Comment, Conversation, CreativeWorkSeason, CreativeWorkSeries, DataCatalog, Dataset, DigitalDocument, Episode, Game, Map, MediaObject, Message, Movie, MusicComposition, MusicPlaylist, MusicRecording, Painting, Photograph, PublicationIssue, PublicationVolume, Question, Recipe, Review, Sculpture, Season, Series, SoftwareApplication, SoftwareSourceCode, TVSeason, TVSeries, VisualArtwork, WebPage, WebPageElement, WebSite'\n",
      "u'Direct subtypes of Product: IndividualProduct, ProductModel, SomeProducts, Vehicle'\n",
      "u'Direct subtypes of MedicalEntity: '\n"
     ]
    }
   ],
   "source": [
    "import os\n",
    "import pprint\n",
    "\n",
    "from google.appengine.api import memcache\n",
    "from google.appengine.api import mail\n",
    "from google.appengine.api import urlfetch\n",
    "from google.appengine.ext import db\n",
    "\n",
    "# pprint.pprint(os.environ.copy())\n",
    "\n",
    "import pprint\n",
    "from api import *\n",
    "\n",
    "read_schemas() # previously automatic\n",
    "\n",
    "pprint.pprint( \"Found %s types.\" % len( GetAllTypes() ) )\n",
    "\n",
    "for t in [\"Article\", \"CreativeWork\", \"Product\", \"MedicalEntity\"]: \n",
    "    someType = Unit.GetUnit(t)\n",
    "    p_subtypes = GetImmediateSubtypes(someType)\n",
    "    msg =  ( \"Direct subtypes of %s: %s\" % ( someType.id, ', '.join([str(x.id) for x in p_subtypes]) ) )\n",
    "    logging.debug(msg) # on cmdline if run as: dev_appserver.py --log_level debug .\n",
    "    pprint.pprint(msg)"
   ]
  },
  {
   "cell_type": "code",
   "execution_count": 18,
   "metadata": {
    "collapsed": false
   },
   "outputs": [
    {
     "name": "stdout",
     "output_type": "stream",
     "text": [
      "/Users/danbri/sdo\n"
     ]
    }
   ],
   "source": [
    "import os\n",
    "print os.getcwd()\n"
   ]
  },
  {
   "cell_type": "code",
   "execution_count": null,
   "metadata": {
    "collapsed": true
   },
   "outputs": [],
   "source": []
  }
 ],
 "metadata": {
  "kernelspec": {
   "display_name": "Python 2",
   "language": "python",
   "name": "python2"
  },
  "language_info": {
   "codemirror_mode": {
    "name": "ipython",
    "version": 2
   },
   "file_extension": ".py",
   "mimetype": "text/x-python",
   "name": "python",
   "nbconvert_exporter": "python",
   "pygments_lexer": "ipython2",
   "version": "2.7.12"
  }
 },
 "nbformat": 4,
 "nbformat_minor": 0
}
